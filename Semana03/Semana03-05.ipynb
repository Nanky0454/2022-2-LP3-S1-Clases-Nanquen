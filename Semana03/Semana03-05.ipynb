{
 "cells": [
  {
   "cell_type": "markdown",
   "id": "7c1b4203",
   "metadata": {},
   "source": [
    "#  Semana 03\n",
    "Nanquen Castillo, Piero Alonso"
   ]
  },
  {
   "cell_type": "raw",
   "id": "2e997d1a",
   "metadata": {},
   "source": [
    "Temas:\n",
    "    1. Números\n",
    "    2. Variables\n",
    "    3. Manejo de Cadenas\n",
    "    4. Ingreso de datos por teclado\n",
    "    5. Operadores"
   ]
  },
  {
   "cell_type": "markdown",
   "id": "15326fb3",
   "metadata": {},
   "source": [
    "5. Operadores"
   ]
  },
  {
   "cell_type": "code",
   "execution_count": 3,
   "id": "0bd8d53b",
   "metadata": {},
   "outputs": [],
   "source": [
    "# 5.1 Operadores aritméticos\n",
    "# Se tiene: +, -, *, /, **, %, //"
   ]
  },
  {
   "cell_type": "code",
   "execution_count": 9,
   "id": "519e42e0",
   "metadata": {},
   "outputs": [
    {
     "name": "stdout",
     "output_type": "stream",
     "text": [
      "13\n",
      "7\n",
      "30\n",
      "3.3333333333333335\n",
      "1\n",
      "3\n",
      "1000\n"
     ]
    }
   ],
   "source": [
    "numero1 = 10\n",
    "numero2 = 3\n",
    "suma = numero1 + numero2\n",
    "resta = numero1 - numero2\n",
    "multiplicacion = numero1 * numero2\n",
    "division = numero1 / numero2\n",
    "residuo = numero1 % numero2\n",
    "cociente = numero1 // numero2\n",
    "potencia = numero1 ** numero2\n",
    "print(suma)\n",
    "print(resta)\n",
    "print(multiplicacion)\n",
    "print(division)\n",
    "print(residuo)\n",
    "print(cociente)\n",
    "print(potencia)"
   ]
  },
  {
   "cell_type": "code",
   "execution_count": 10,
   "id": "4cc8d993",
   "metadata": {},
   "outputs": [],
   "source": [
    "# 5.2 Operadores de asignación\n",
    "# Se tiene: =, +=, -=, *=, /=, **="
   ]
  },
  {
   "cell_type": "code",
   "execution_count": 11,
   "id": "6351a960",
   "metadata": {},
   "outputs": [
    {
     "name": "stdout",
     "output_type": "stream",
     "text": [
      "8\n"
     ]
    }
   ],
   "source": [
    "numero = 5\n",
    "numero = numero + 3\n",
    "print(numero)"
   ]
  },
  {
   "cell_type": "code",
   "execution_count": 13,
   "id": "ebbfae2d",
   "metadata": {},
   "outputs": [
    {
     "name": "stdout",
     "output_type": "stream",
     "text": [
      "8\n"
     ]
    }
   ],
   "source": [
    "# La operación anterior también se puede expresar de la siguiente manera:\n",
    "numero = 5\n",
    "numero += 3\n",
    "print(numero)"
   ]
  },
  {
   "cell_type": "code",
   "execution_count": 14,
   "id": "285a40d5",
   "metadata": {},
   "outputs": [
    {
     "name": "stdout",
     "output_type": "stream",
     "text": [
      "125\n"
     ]
    }
   ],
   "source": [
    "# Lo mismo se puede hacer con todos los casos, incluso con la potencia\n",
    "# Ejemplo:\n",
    "numero = 5\n",
    "numero = numero ** 3\n",
    "print(numero)"
   ]
  },
  {
   "cell_type": "code",
   "execution_count": 16,
   "id": "e1abf3d5",
   "metadata": {},
   "outputs": [
    {
     "name": "stdout",
     "output_type": "stream",
     "text": [
      "625\n"
     ]
    }
   ],
   "source": [
    "numero = 5\n",
    "numero **= 4\n",
    "print(numero)"
   ]
  },
  {
   "cell_type": "code",
   "execution_count": 17,
   "id": "ecff508d",
   "metadata": {},
   "outputs": [
    {
     "data": {
      "text/plain": [
       "False"
      ]
     },
     "execution_count": 17,
     "metadata": {},
     "output_type": "execute_result"
    }
   ],
   "source": [
    "# 5.3 Operadores de igualdad ==\n",
    "numero1 = 5\n",
    "numero2 = 2\n",
    "numero1 == numero2"
   ]
  },
  {
   "cell_type": "code",
   "execution_count": 18,
   "id": "1c3a8cbf",
   "metadata": {},
   "outputs": [
    {
     "data": {
      "text/plain": [
       "True"
      ]
     },
     "execution_count": 18,
     "metadata": {},
     "output_type": "execute_result"
    }
   ],
   "source": [
    "# Con la cadenas funciona igual\n",
    "nombre1 = 'Piero'\n",
    "nombre2 = 'Piero'\n",
    "nombre1 == nombre2"
   ]
  },
  {
   "cell_type": "code",
   "execution_count": 19,
   "id": "6df5a935",
   "metadata": {},
   "outputs": [
    {
     "data": {
      "text/plain": [
       "False"
      ]
     },
     "execution_count": 19,
     "metadata": {},
     "output_type": "execute_result"
    }
   ],
   "source": [
    "nombre1 != nombre2"
   ]
  },
  {
   "cell_type": "code",
   "execution_count": 20,
   "id": "cb49516e",
   "metadata": {},
   "outputs": [],
   "source": [
    "# 5.4 Operadores Lógicos\n",
    "# Se tiene: and, or, not\n",
    "numero1 = 5\n",
    "numero2 = 6\n",
    "numero3 = 7\n",
    "numero4 = 8"
   ]
  },
  {
   "cell_type": "code",
   "execution_count": 21,
   "id": "3cfca101",
   "metadata": {},
   "outputs": [
    {
     "data": {
      "text/plain": [
       "True"
      ]
     },
     "execution_count": 21,
     "metadata": {},
     "output_type": "execute_result"
    }
   ],
   "source": [
    "numero1 < numero2"
   ]
  },
  {
   "cell_type": "code",
   "execution_count": 24,
   "id": "9299d751",
   "metadata": {},
   "outputs": [
    {
     "data": {
      "text/plain": [
       "False"
      ]
     },
     "execution_count": 24,
     "metadata": {},
     "output_type": "execute_result"
    }
   ],
   "source": [
    "# El not invierte el resultado not()\n",
    "not(numero1 < numero2)"
   ]
  },
  {
   "cell_type": "code",
   "execution_count": 25,
   "id": "3b49394a",
   "metadata": {},
   "outputs": [
    {
     "data": {
      "text/plain": [
       "True"
      ]
     },
     "execution_count": 25,
     "metadata": {},
     "output_type": "execute_result"
    }
   ],
   "source": [
    "numero1 < numero2 and numero3 < numero4"
   ]
  },
  {
   "cell_type": "code",
   "execution_count": 26,
   "id": "775a8a7c",
   "metadata": {},
   "outputs": [
    {
     "data": {
      "text/plain": [
       "True"
      ]
     },
     "execution_count": 26,
     "metadata": {},
     "output_type": "execute_result"
    }
   ],
   "source": [
    "# También puedes utilizar paréntesis para ordenar tu operación\n",
    "(numero1 < numero2 and numero3 < numero4) or (numero3>numero4)"
   ]
  },
  {
   "cell_type": "code",
   "execution_count": 27,
   "id": "94e5bfde",
   "metadata": {},
   "outputs": [],
   "source": [
    "# 5.5 Operadores de Pertenencia\n",
    "# Se tiene: in, not in\n",
    "aula = ['Juan', 'Daniel', 'Ruben']\n",
    "alumno1 = 'Diego'\n",
    "alumno2 = 'Juan'"
   ]
  },
  {
   "cell_type": "code",
   "execution_count": 28,
   "id": "0a1eabc2",
   "metadata": {},
   "outputs": [
    {
     "data": {
      "text/plain": [
       "False"
      ]
     },
     "execution_count": 28,
     "metadata": {},
     "output_type": "execute_result"
    }
   ],
   "source": [
    "#¿Diego esta en aula?\n",
    "alumno1 in aula"
   ]
  },
  {
   "cell_type": "code",
   "execution_count": 29,
   "id": "99019427",
   "metadata": {},
   "outputs": [
    {
     "data": {
      "text/plain": [
       "True"
      ]
     },
     "execution_count": 29,
     "metadata": {},
     "output_type": "execute_result"
    }
   ],
   "source": [
    "#¿Juan esta en aula?\n",
    "alumno2 in aula"
   ]
  },
  {
   "cell_type": "code",
   "execution_count": 30,
   "id": "e853fca7",
   "metadata": {},
   "outputs": [
    {
     "data": {
      "text/plain": [
       "True"
      ]
     },
     "execution_count": 30,
     "metadata": {},
     "output_type": "execute_result"
    }
   ],
   "source": [
    "#¿Diego no esta en aula?\n",
    "alumno1 not in aula"
   ]
  },
  {
   "cell_type": "code",
   "execution_count": 31,
   "id": "ffa209c4",
   "metadata": {},
   "outputs": [
    {
     "data": {
      "text/plain": [
       "False"
      ]
     },
     "execution_count": 31,
     "metadata": {},
     "output_type": "execute_result"
    }
   ],
   "source": [
    "#¿Juan no esta en aula?\n",
    "alumno2 not in aula"
   ]
  },
  {
   "cell_type": "code",
   "execution_count": 32,
   "id": "c416c0a0",
   "metadata": {},
   "outputs": [],
   "source": [
    "# 5.6 Operadores de Identidad\n",
    "# Se tiene: is, is not"
   ]
  },
  {
   "cell_type": "code",
   "execution_count": 38,
   "id": "96469190",
   "metadata": {},
   "outputs": [],
   "source": [
    "aula1 = ['Juan', 'Daniel', 'Ruben']\n",
    "aula2 = ['Juan', 'Daniel', 'Ruben']\n",
    "         \n",
    "# A continuación vamos a indicar que aula3 va a compratir el mismo objeto que aula1\n",
    "         \n",
    "aula3 = aula1"
   ]
  },
  {
   "cell_type": "code",
   "execution_count": 36,
   "id": "e7980bea",
   "metadata": {},
   "outputs": [
    {
     "data": {
      "text/plain": [
       "True"
      ]
     },
     "execution_count": 36,
     "metadata": {},
     "output_type": "execute_result"
    }
   ],
   "source": [
    "# ¿aula3 comparte el mismo objeto que aula1?\n",
    "aula3 is aula1"
   ]
  },
  {
   "cell_type": "code",
   "execution_count": 39,
   "id": "182e616a",
   "metadata": {},
   "outputs": [
    {
     "data": {
      "text/plain": [
       "False"
      ]
     },
     "execution_count": 39,
     "metadata": {},
     "output_type": "execute_result"
    }
   ],
   "source": [
    "# ¿aula3 comparte el mismo objeto que aula2?\n",
    "aula3 is aula2"
   ]
  },
  {
   "cell_type": "code",
   "execution_count": 40,
   "id": "31bd7560",
   "metadata": {},
   "outputs": [],
   "source": [
    "aula1.append('Diego')"
   ]
  },
  {
   "cell_type": "code",
   "execution_count": 41,
   "id": "a029a3b0",
   "metadata": {},
   "outputs": [
    {
     "name": "stdout",
     "output_type": "stream",
     "text": [
      "['Juan', 'Daniel', 'Ruben', 'Diego']\n"
     ]
    }
   ],
   "source": [
    "# Al imprimir los elementos de la lista aula1 se observa\n",
    "print(aula1)"
   ]
  },
  {
   "cell_type": "code",
   "execution_count": 42,
   "id": "36b778bb",
   "metadata": {},
   "outputs": [
    {
     "name": "stdout",
     "output_type": "stream",
     "text": [
      "['Juan', 'Daniel', 'Ruben', 'Diego']\n"
     ]
    }
   ],
   "source": [
    "# Al imprimir los elementos de la lista aula3 se observa\n",
    "print(aula3)"
   ]
  },
  {
   "cell_type": "code",
   "execution_count": 43,
   "id": "cc73a50c",
   "metadata": {},
   "outputs": [
    {
     "name": "stdout",
     "output_type": "stream",
     "text": [
      "['Juan', 'Daniel', 'Ruben']\n"
     ]
    }
   ],
   "source": [
    "# Al imprimir los elementos de la lista aula2 se observa\n",
    "print(aula2)"
   ]
  },
  {
   "cell_type": "code",
   "execution_count": null,
   "id": "b0db0cef",
   "metadata": {},
   "outputs": [],
   "source": []
  }
 ],
 "metadata": {
  "kernelspec": {
   "display_name": "Python 3 (ipykernel)",
   "language": "python",
   "name": "python3"
  },
  "language_info": {
   "codemirror_mode": {
    "name": "ipython",
    "version": 3
   },
   "file_extension": ".py",
   "mimetype": "text/x-python",
   "name": "python",
   "nbconvert_exporter": "python",
   "pygments_lexer": "ipython3",
   "version": "3.9.12"
  }
 },
 "nbformat": 4,
 "nbformat_minor": 5
}
