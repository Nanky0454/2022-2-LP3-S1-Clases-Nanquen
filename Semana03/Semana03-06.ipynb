{
 "cells": [
  {
   "cell_type": "markdown",
   "id": "22ce5f1c",
   "metadata": {},
   "source": [
    "# Semana 03\n",
    "Nanquen Castillo, Piero Alonso"
   ]
  },
  {
   "cell_type": "raw",
   "id": "984c8617",
   "metadata": {},
   "source": [
    "Temas:\n",
    "    1. Colecciones de Datos\n",
    "    2. Estructuras Decisivas y Estructuras Repetitivas en Python\n",
    "    3. Clases y Objetos\n",
    "    4. Funciones"
   ]
  },
  {
   "cell_type": "markdown",
   "id": "ba9ce94d",
   "metadata": {},
   "source": [
    "1. Colecciones"
   ]
  },
  {
   "cell_type": "code",
   "execution_count": 2,
   "id": "0a33fa27",
   "metadata": {},
   "outputs": [
    {
     "name": "stdout",
     "output_type": "stream",
     "text": [
      "['Silvestre', 'Uñapillco', 'Bravo', 'Alagon']\n"
     ]
    }
   ],
   "source": [
    "# 1.1 Listas\n",
    "# Es una colección de elementos que puede ser ordenado, modificado, etc...\n",
    "# Se identifica por los corchetes\n",
    "# Ejemplo:\n",
    "aula = ['Silvestre', 'Uñapillco', 'Bravo', 'Alagon']\n",
    "print(aula)"
   ]
  },
  {
   "cell_type": "code",
   "execution_count": 3,
   "id": "23ea0052",
   "metadata": {},
   "outputs": [
    {
     "data": {
      "text/plain": [
       "['Silvestre', 'Uñapillco', 'Bravo', 'Alagon']"
      ]
     },
     "execution_count": 3,
     "metadata": {},
     "output_type": "execute_result"
    }
   ],
   "source": [
    "aula"
   ]
  },
  {
   "cell_type": "code",
   "execution_count": 5,
   "id": "a7f9763c",
   "metadata": {},
   "outputs": [
    {
     "name": "stdout",
     "output_type": "stream",
     "text": [
      "Silvestre\n",
      "Uñapillco\n"
     ]
    }
   ],
   "source": [
    "# Puedo extraer cada elemento por su posición\n",
    "print(aula[0])\n",
    "print(aula[1])"
   ]
  },
  {
   "cell_type": "code",
   "execution_count": 6,
   "id": "1dc0cf34",
   "metadata": {},
   "outputs": [
    {
     "data": {
      "text/plain": [
       "'Chavez'"
      ]
     },
     "execution_count": 6,
     "metadata": {},
     "output_type": "execute_result"
    }
   ],
   "source": [
    "# Puedo asignar un valor a una posición de la lista\n",
    "aula[1] = 'Chavez'\n",
    "aula[1]"
   ]
  },
  {
   "cell_type": "code",
   "execution_count": 7,
   "id": "5f64cfb0",
   "metadata": {},
   "outputs": [
    {
     "data": {
      "text/plain": [
       "['Silvestre', 'Chavez', 'Bravo', 'Alagon']"
      ]
     },
     "execution_count": 7,
     "metadata": {},
     "output_type": "execute_result"
    }
   ],
   "source": [
    "aula"
   ]
  },
  {
   "cell_type": "code",
   "execution_count": 9,
   "id": "9ddd3eb0",
   "metadata": {},
   "outputs": [
    {
     "data": {
      "text/plain": [
       "['Silvestre',\n",
       " 'Chavez',\n",
       " 'Bravo',\n",
       " 'Alagon',\n",
       " 'Navarro',\n",
       " 'Bravo',\n",
       " 'Navarro',\n",
       " 'Bravo']"
      ]
     },
     "execution_count": 9,
     "metadata": {},
     "output_type": "execute_result"
    }
   ],
   "source": [
    "# Para agregar un elemento utilizamos .appent()\n",
    "aula.append('Navarro')\n",
    "aula.append('Bravo')\n",
    "aula"
   ]
  },
  {
   "cell_type": "code",
   "execution_count": 11,
   "id": "07145244",
   "metadata": {},
   "outputs": [
    {
     "data": {
      "text/plain": [
       "['Chavez', 'Bravo', 'Alagon', 'Navarro', 'Bravo', 'Navarro', 'Bravo']"
      ]
     },
     "execution_count": 11,
     "metadata": {},
     "output_type": "execute_result"
    }
   ],
   "source": [
    "# Para eliminar elemenots utilizamos remove\n",
    "aula.remove('Silvestre')\n",
    "aula"
   ]
  },
  {
   "cell_type": "code",
   "execution_count": 14,
   "id": "3cb71d76",
   "metadata": {},
   "outputs": [
    {
     "data": {
      "text/plain": [
       "['Chavez', 'Alagon', 'Navarro', 'Bravo']"
      ]
     },
     "execution_count": 14,
     "metadata": {},
     "output_type": "execute_result"
    }
   ],
   "source": [
    "# Si hubiera varios elementos de valores iguales se elimina la primera coincidencia\n",
    "aula.remove('Bravo')\n",
    "aula"
   ]
  },
  {
   "cell_type": "code",
   "execution_count": 15,
   "id": "6c24d32d",
   "metadata": {},
   "outputs": [
    {
     "data": {
      "text/plain": [
       "4"
      ]
     },
     "execution_count": 15,
     "metadata": {},
     "output_type": "execute_result"
    }
   ],
   "source": [
    "# Para obtener el tamaño utilizamos len()\n",
    "len(aula)"
   ]
  },
  {
   "cell_type": "code",
   "execution_count": 16,
   "id": "a11582ae",
   "metadata": {},
   "outputs": [
    {
     "name": "stdout",
     "output_type": "stream",
     "text": [
      "Chavez\n",
      "Alagon\n",
      "Navarro\n",
      "Bravo\n"
     ]
    }
   ],
   "source": [
    "# Para recorrer podemos utilizar una estructura repetitiva for\n",
    "for alumno in aula:\n",
    "    print(alumno)"
   ]
  },
  {
   "cell_type": "code",
   "execution_count": 19,
   "id": "f233dccc",
   "metadata": {},
   "outputs": [
    {
     "data": {
      "text/plain": [
       "['Bravo', 'Navarro', 'Alagon', 'Chavez']"
      ]
     },
     "execution_count": 19,
     "metadata": {},
     "output_type": "execute_result"
    }
   ],
   "source": [
    "# Para invertir la lista utilizamos reverse()\n",
    "# Ojo: Invertir no significa ordenar en forma descendente sino invertir la lista\n",
    "aula.reverse()\n",
    "aula"
   ]
  },
  {
   "cell_type": "code",
   "execution_count": 20,
   "id": "96d49f7b",
   "metadata": {},
   "outputs": [
    {
     "data": {
      "text/plain": [
       "['Alagon', 'Bravo', 'Chavez', 'Navarro']"
      ]
     },
     "execution_count": 20,
     "metadata": {},
     "output_type": "execute_result"
    }
   ],
   "source": [
    "# Para ordenar una lista utilizamos sort()\n",
    "aula.sort()\n",
    "aula"
   ]
  },
  {
   "cell_type": "code",
   "execution_count": 22,
   "id": "c47cda08",
   "metadata": {},
   "outputs": [
    {
     "data": {
      "text/plain": [
       "('Silvestre', 'Chavez', 'Bravo', 'Alagon')"
      ]
     },
     "execution_count": 22,
     "metadata": {},
     "output_type": "execute_result"
    }
   ],
   "source": [
    "# 1.2 Tuplas\n",
    "# Es una coleccion de elementos ordenado(ordenado significa que tiene un indice) que no se puede modificar\n",
    "# No se pueden agregar elementos ni eliminar\n",
    "# Se identifica por los paréntesis\n",
    "\n",
    "tupla_aula = ('Silvestre', 'Chavez', 'Bravo', 'Alagon')\n",
    "tupla_aula"
   ]
  },
  {
   "cell_type": "code",
   "execution_count": 24,
   "id": "fa1b6532",
   "metadata": {},
   "outputs": [
    {
     "name": "stdout",
     "output_type": "stream",
     "text": [
      "Silvestre\n",
      "Chavez\n",
      "Bravo\n",
      "Alagon\n"
     ]
    }
   ],
   "source": [
    "# Se puede recorrer con una estructura repetitiva\n",
    "# Ejemplo\n",
    "\n",
    "for alumno in tupla_aula:\n",
    "    print(alumno)"
   ]
  },
  {
   "cell_type": "code",
   "execution_count": 25,
   "id": "e43f3ee0",
   "metadata": {},
   "outputs": [
    {
     "data": {
      "text/plain": [
       "'Bravo'"
      ]
     },
     "execution_count": 25,
     "metadata": {},
     "output_type": "execute_result"
    }
   ],
   "source": [
    "# Se puede extraer un elemento por su posición\n",
    "tupla_aula[2]"
   ]
  },
  {
   "cell_type": "code",
   "execution_count": 26,
   "id": "3c2bc5ec",
   "metadata": {},
   "outputs": [
    {
     "data": {
      "text/plain": [
       "4"
      ]
     },
     "execution_count": 26,
     "metadata": {},
     "output_type": "execute_result"
    }
   ],
   "source": [
    "# Para saber la cantidad de elementos de una tupla utilizamos len()\n",
    "len(tupla_aula)"
   ]
  },
  {
   "cell_type": "code",
   "execution_count": 27,
   "id": "30ae7f92",
   "metadata": {},
   "outputs": [
    {
     "data": {
      "text/plain": [
       "{'Alagon', 'Bravo', 'Chavez', 'Silvestre'}"
      ]
     },
     "execution_count": 27,
     "metadata": {},
     "output_type": "execute_result"
    }
   ],
   "source": [
    "# 1.3 Conjuntos\n",
    "# Es una colección de elementos que no está ordenado (significa que no tiene un indice)\n",
    "conjunto_aula = {'Silvestre', 'Chavez', 'Bravo', 'Alagon'}\n",
    "conjunto_aula"
   ]
  },
  {
   "cell_type": "code",
   "execution_count": 28,
   "id": "5e3add5b",
   "metadata": {},
   "outputs": [
    {
     "name": "stdout",
     "output_type": "stream",
     "text": [
      "Chavez\n",
      "Bravo\n",
      "Silvestre\n",
      "Alagon\n"
     ]
    }
   ],
   "source": [
    "# Se puede recorrer utilizando una estructura repetitiva\n",
    "# Ejemplo:\n",
    "for alumno in conjunto_aula:\n",
    "    print(alumno)"
   ]
  },
  {
   "cell_type": "code",
   "execution_count": 29,
   "id": "e6f9d227",
   "metadata": {},
   "outputs": [
    {
     "ename": "TypeError",
     "evalue": "'set' object is not subscriptable",
     "output_type": "error",
     "traceback": [
      "\u001b[1;31m---------------------------------------------------------------------------\u001b[0m",
      "\u001b[1;31mTypeError\u001b[0m                                 Traceback (most recent call last)",
      "Input \u001b[1;32mIn [29]\u001b[0m, in \u001b[0;36m<cell line: 4>\u001b[1;34m()\u001b[0m\n\u001b[0;32m      1\u001b[0m \u001b[38;5;66;03m# Observación:\u001b[39;00m\n\u001b[0;32m      2\u001b[0m \u001b[38;5;66;03m# No se puede acceder por posición, pues no considera indexación\u001b[39;00m\n\u001b[0;32m      3\u001b[0m \u001b[38;5;66;03m# Ejemplo: conjunto_aula[2] devolverá un mensaje de error\u001b[39;00m\n\u001b[1;32m----> 4\u001b[0m \u001b[43mconjunto_aula\u001b[49m\u001b[43m[\u001b[49m\u001b[38;5;241;43m2\u001b[39;49m\u001b[43m]\u001b[49m\n",
      "\u001b[1;31mTypeError\u001b[0m: 'set' object is not subscriptable"
     ]
    }
   ],
   "source": [
    "# Observación:\n",
    "# No se puede acceder por posición, pues no considera indexación\n",
    "# Ejemplo: conjunto_aula[2] devolverá un mensaje de error\n",
    "conjunto_aula[2]"
   ]
  },
  {
   "cell_type": "code",
   "execution_count": 30,
   "id": "2b3f87f2",
   "metadata": {},
   "outputs": [
    {
     "data": {
      "text/plain": [
       "4"
      ]
     },
     "execution_count": 30,
     "metadata": {},
     "output_type": "execute_result"
    }
   ],
   "source": [
    "# Para saber la cantidad de elementos utilizamos len()\n",
    "len(conjunto_aula)"
   ]
  },
  {
   "cell_type": "code",
   "execution_count": 31,
   "id": "7b185d81",
   "metadata": {},
   "outputs": [
    {
     "data": {
      "text/plain": [
       "{'Alagon', 'Bravo', 'Chavez', 'Palomino', 'Silvestre'}"
      ]
     },
     "execution_count": 31,
     "metadata": {},
     "output_type": "execute_result"
    }
   ],
   "source": [
    "# Para agregar utilizamos la función .add()\n",
    "conjunto_aula.add('Palomino')\n",
    "conjunto_aula"
   ]
  },
  {
   "cell_type": "code",
   "execution_count": 32,
   "id": "7202d257",
   "metadata": {},
   "outputs": [
    {
     "data": {
      "text/plain": [
       "{2: 'Alagon', 1: 'Bravo', 'dos': 'Chavez', '3': 'Palomino', '0': 'Silvestre'}"
      ]
     },
     "execution_count": 32,
     "metadata": {},
     "output_type": "execute_result"
    }
   ],
   "source": [
    "# 1.4 Diccionarios\n",
    "# Es una coleccion de elementos, que estan indexados, no están ordenados y se puede modificar\n",
    "# Son escritos entre llaves y están formados por pares de elementos   INDICE:abs VALOR\n",
    "\n",
    "diccionario_aula= {2:'Alagon', 1:'Bravo','dos':'Chavez', '3':'Palomino', '0':'Silvestre'}\n",
    "diccionario_aula"
   ]
  },
  {
   "cell_type": "code",
   "execution_count": 33,
   "id": "c3aaffd2",
   "metadata": {},
   "outputs": [
    {
     "data": {
      "text/plain": [
       "'Silvestre'"
      ]
     },
     "execution_count": 33,
     "metadata": {},
     "output_type": "execute_result"
    }
   ],
   "source": [
    "# Del diccionario: diccionario_aula extraer el valor cuyo índice sea cero en String\n",
    "diccionario_aula['0']"
   ]
  },
  {
   "cell_type": "code",
   "execution_count": 34,
   "id": "0cb3d864",
   "metadata": {},
   "outputs": [
    {
     "data": {
      "text/plain": [
       "{2: 'Alagon',\n",
       " 1: 'Bravo',\n",
       " 'dos': 'Chavez',\n",
       " '3': 'Palomino',\n",
       " '0': 'Silvestre',\n",
       " '20': 'Vilca'}"
      ]
     },
     "execution_count": 34,
     "metadata": {},
     "output_type": "execute_result"
    }
   ],
   "source": [
    "# Para añadir un par de elementos al diccionario hacemos:\n",
    "diccionario_aula['20']='Vilca'\n",
    "diccionario_aula"
   ]
  },
  {
   "cell_type": "code",
   "execution_count": 35,
   "id": "acac2d89",
   "metadata": {},
   "outputs": [
    {
     "data": {
      "text/plain": [
       "{1: 'Bravo', 'dos': 'Chavez', '3': 'Palomino', '0': 'Silvestre', '20': 'Vilca'}"
      ]
     },
     "execution_count": 35,
     "metadata": {},
     "output_type": "execute_result"
    }
   ],
   "source": [
    "# Para eliminar un valor se utiliza .pop()\n",
    "# Ejemplo: eliminar el elemento de índice dos. Para eliminar a Alagon hacemos lo siguiente:\n",
    "diccionario_aula.pop(2)\n",
    "diccionario_aula"
   ]
  },
  {
   "cell_type": "code",
   "execution_count": 36,
   "id": "182d37fd",
   "metadata": {},
   "outputs": [
    {
     "data": {
      "text/plain": [
       "{1: 'Bravo', '3': 'Palomino', '0': 'Silvestre', '20': 'Vilca'}"
      ]
     },
     "execution_count": 36,
     "metadata": {},
     "output_type": "execute_result"
    }
   ],
   "source": [
    "# También se puede eliminar utilizando del()\n",
    "del(diccionario_aula['dos'])\n",
    "diccionario_aula"
   ]
  },
  {
   "cell_type": "code",
   "execution_count": 37,
   "id": "a49e34bf",
   "metadata": {},
   "outputs": [
    {
     "name": "stdout",
     "output_type": "stream",
     "text": [
      "1\n",
      "3\n",
      "0\n",
      "20\n"
     ]
    }
   ],
   "source": [
    "# Para poder recorrer todos los elementos podemos utilizar for\n",
    "# Ejemplo: Devuelve los índices\n",
    "for indice in diccionario_aula:\n",
    "    print(indice)"
   ]
  },
  {
   "cell_type": "code",
   "execution_count": 38,
   "id": "68bad61f",
   "metadata": {},
   "outputs": [],
   "source": [
    "# 1.5 Ejercicio:\n",
    "# Dado una lista de [ALAGON, ARONES, BRAVO, CABEZAS,CAMAN, CAMARENA, CASAS,CORRALES, DE LA CRUZ, ESCOBAR, FELIX, FERNANDEZ, GARCIA, HUANUCO, NANQUEN, NAVARRO, PARILLO, QUISPE, SAIRA, SERNA, SILVESTRE,TOMASTO, UÑAPILLCO, VARGAS, VENTOCILLA,VENTURI, WONG, ZEVALLOS]\n",
    "# Diseñar un código que muestre si el apellido de un estudiante (Ingresado por el teclado) forma parte de la lista\n",
    "# tiempo: 12 minutos"
   ]
  },
  {
   "cell_type": "code",
   "execution_count": 51,
   "id": "48ab9221",
   "metadata": {},
   "outputs": [
    {
     "name": "stdout",
     "output_type": "stream",
     "text": [
      "Ingrese el primer apellido de un alumno:\n",
      "Nanquen\n",
      "¿El alumno Nanquen se encuentra en el aula?\n"
     ]
    },
    {
     "data": {
      "text/plain": [
       "False"
      ]
     },
     "execution_count": 51,
     "metadata": {},
     "output_type": "execute_result"
    }
   ],
   "source": [
    "aula= ['ALAGON', 'ARONES', 'BRAVO', 'CABEZAS', 'CAMAN', 'CAMARENA', 'CASAS', 'CORRALES', 'DE LA CRUZ', 'ESCOBAR', 'FELIX', 'FERNANDEZ', 'GARCIA', 'HUANUCO', 'NANQUEN', 'NAVARRO', 'PARILLO', 'QUISPE', 'SAIRA', 'SERNA', 'SILVESTRE', 'TOMASTO', 'UÑAPILLCO', 'VARGAS', 'VENTOCILLA', 'VENTURI', 'WONG', 'ZEVALLOS']\n",
    "print('Ingrese el primer apellido de un alumno:')\n",
    "nombre=input()\n",
    "print('¿El alumno '+ nombre +' se encuentra en el aula?')\n",
    "nombre in aula\n"
   ]
  },
  {
   "cell_type": "code",
   "execution_count": null,
   "id": "86e9c6eb",
   "metadata": {},
   "outputs": [],
   "source": []
  },
  {
   "cell_type": "code",
   "execution_count": null,
   "id": "388fb412",
   "metadata": {},
   "outputs": [],
   "source": []
  }
 ],
 "metadata": {
  "kernelspec": {
   "display_name": "Python 3 (ipykernel)",
   "language": "python",
   "name": "python3"
  },
  "language_info": {
   "codemirror_mode": {
    "name": "ipython",
    "version": 3
   },
   "file_extension": ".py",
   "mimetype": "text/x-python",
   "name": "python",
   "nbconvert_exporter": "python",
   "pygments_lexer": "ipython3",
   "version": "3.9.12"
  }
 },
 "nbformat": 4,
 "nbformat_minor": 5
}
