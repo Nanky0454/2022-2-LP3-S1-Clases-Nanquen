{
 "cells": [
  {
   "cell_type": "markdown",
   "id": "024fcd37",
   "metadata": {},
   "source": [
    "# Semana 03\n",
    "Nanquen Castillo, Piero Alonso"
   ]
  },
  {
   "cell_type": "raw",
   "id": "49cdc72e",
   "metadata": {},
   "source": [
    "Temas:\n",
    "    1. Números\n",
    "    2. Variables\n",
    "    3. Manejo de Cadenas\n",
    "    4. Ingreso de datos por teclado\n",
    "    5. Operadores"
   ]
  },
  {
   "cell_type": "markdown",
   "id": "e390f64b",
   "metadata": {},
   "source": [
    "2. Variables"
   ]
  },
  {
   "cell_type": "code",
   "execution_count": 1,
   "id": "460a1b99",
   "metadata": {},
   "outputs": [],
   "source": [
    "# Siempre deben iniciar con letra o un guión bajo. (Nunca con un número u otro símbolo)"
   ]
  },
  {
   "cell_type": "code",
   "execution_count": 2,
   "id": "1f6f1161",
   "metadata": {},
   "outputs": [],
   "source": [
    "edad = 41"
   ]
  },
  {
   "cell_type": "code",
   "execution_count": 3,
   "id": "f567c3da",
   "metadata": {},
   "outputs": [
    {
     "data": {
      "text/plain": [
       "41"
      ]
     },
     "execution_count": 3,
     "metadata": {},
     "output_type": "execute_result"
    }
   ],
   "source": [
    "edad"
   ]
  },
  {
   "cell_type": "code",
   "execution_count": 6,
   "id": "aef87de8",
   "metadata": {},
   "outputs": [],
   "source": [
    "nombre = 'Piero'"
   ]
  },
  {
   "cell_type": "code",
   "execution_count": 7,
   "id": "12d54248",
   "metadata": {},
   "outputs": [
    {
     "data": {
      "text/plain": [
       "'Piero'"
      ]
     },
     "execution_count": 7,
     "metadata": {},
     "output_type": "execute_result"
    }
   ],
   "source": [
    "nombre"
   ]
  },
  {
   "cell_type": "code",
   "execution_count": 8,
   "id": "ed766d97",
   "metadata": {},
   "outputs": [],
   "source": [
    "apellido = 'Nanquen Castillo'"
   ]
  },
  {
   "cell_type": "code",
   "execution_count": 9,
   "id": "6b19beaa",
   "metadata": {},
   "outputs": [
    {
     "data": {
      "text/plain": [
       "'Nanquen Castillo'"
      ]
     },
     "execution_count": 9,
     "metadata": {},
     "output_type": "execute_result"
    }
   ],
   "source": [
    "apellido"
   ]
  },
  {
   "cell_type": "code",
   "execution_count": 10,
   "id": "12d5c543",
   "metadata": {},
   "outputs": [],
   "source": [
    "nombrecompleto = nombre + \" \" + apellido"
   ]
  },
  {
   "cell_type": "code",
   "execution_count": 11,
   "id": "c419ac18",
   "metadata": {},
   "outputs": [
    {
     "data": {
      "text/plain": [
       "'Piero Nanquen Castillo'"
      ]
     },
     "execution_count": 11,
     "metadata": {},
     "output_type": "execute_result"
    }
   ],
   "source": [
    "nombrecompleto"
   ]
  },
  {
   "cell_type": "code",
   "execution_count": 13,
   "id": "0fd9c9b1",
   "metadata": {},
   "outputs": [],
   "source": [
    "# Para saber el tipo de variable utilizamos la función type()\n",
    "# Ejemplo:"
   ]
  },
  {
   "cell_type": "code",
   "execution_count": 14,
   "id": "de9cb84c",
   "metadata": {},
   "outputs": [
    {
     "data": {
      "text/plain": [
       "int"
      ]
     },
     "execution_count": 14,
     "metadata": {},
     "output_type": "execute_result"
    }
   ],
   "source": [
    "numero = 50\n",
    "type(numero)"
   ]
  },
  {
   "cell_type": "code",
   "execution_count": 15,
   "id": "80fa71ed",
   "metadata": {},
   "outputs": [
    {
     "data": {
      "text/plain": [
       "str"
      ]
     },
     "execution_count": 15,
     "metadata": {},
     "output_type": "execute_result"
    }
   ],
   "source": [
    "type(nombre)"
   ]
  },
  {
   "cell_type": "code",
   "execution_count": 16,
   "id": "b4b3db20",
   "metadata": {},
   "outputs": [],
   "source": [
    "talla = 1.75"
   ]
  },
  {
   "cell_type": "code",
   "execution_count": null,
   "id": "59a601c3",
   "metadata": {},
   "outputs": [],
   "source": []
  },
  {
   "cell_type": "code",
   "execution_count": 17,
   "id": "e5fa1c64",
   "metadata": {},
   "outputs": [
    {
     "data": {
      "text/plain": [
       "1.75"
      ]
     },
     "execution_count": 17,
     "metadata": {},
     "output_type": "execute_result"
    }
   ],
   "source": [
    "talla"
   ]
  },
  {
   "cell_type": "code",
   "execution_count": 18,
   "id": "ff4a679a",
   "metadata": {},
   "outputs": [
    {
     "data": {
      "text/plain": [
       "float"
      ]
     },
     "execution_count": 18,
     "metadata": {},
     "output_type": "execute_result"
    }
   ],
   "source": [
    "type(talla)"
   ]
  },
  {
   "cell_type": "code",
   "execution_count": 19,
   "id": "0cbbc2a0",
   "metadata": {},
   "outputs": [],
   "source": [
    "# Para convertir un número en una cadena utilizamos str()"
   ]
  },
  {
   "cell_type": "code",
   "execution_count": 21,
   "id": "44854627",
   "metadata": {},
   "outputs": [],
   "source": [
    "numero = 100\n",
    "cadena = str(numero)"
   ]
  },
  {
   "cell_type": "code",
   "execution_count": 22,
   "id": "e94fcc4b",
   "metadata": {},
   "outputs": [
    {
     "data": {
      "text/plain": [
       "'100'"
      ]
     },
     "execution_count": 22,
     "metadata": {},
     "output_type": "execute_result"
    }
   ],
   "source": [
    "cadena"
   ]
  },
  {
   "cell_type": "code",
   "execution_count": 23,
   "id": "d5316181",
   "metadata": {},
   "outputs": [
    {
     "data": {
      "text/plain": [
       "str"
      ]
     },
     "execution_count": 23,
     "metadata": {},
     "output_type": "execute_result"
    }
   ],
   "source": [
    "type(cadena)"
   ]
  },
  {
   "cell_type": "code",
   "execution_count": 24,
   "id": "95deeaad",
   "metadata": {},
   "outputs": [],
   "source": [
    "# Para convertir una cadena en un entero utilizamos int()"
   ]
  },
  {
   "cell_type": "code",
   "execution_count": 25,
   "id": "8d180d5a",
   "metadata": {},
   "outputs": [],
   "source": [
    "cadena2 = '50'\n",
    "numero2 = int(cadena2)"
   ]
  },
  {
   "cell_type": "code",
   "execution_count": 26,
   "id": "a8b8e9f4",
   "metadata": {},
   "outputs": [
    {
     "data": {
      "text/plain": [
       "50"
      ]
     },
     "execution_count": 26,
     "metadata": {},
     "output_type": "execute_result"
    }
   ],
   "source": [
    "numero2"
   ]
  },
  {
   "cell_type": "code",
   "execution_count": null,
   "id": "5854efd5",
   "metadata": {},
   "outputs": [],
   "source": []
  }
 ],
 "metadata": {
  "kernelspec": {
   "display_name": "Python 3 (ipykernel)",
   "language": "python",
   "name": "python3"
  },
  "language_info": {
   "codemirror_mode": {
    "name": "ipython",
    "version": 3
   },
   "file_extension": ".py",
   "mimetype": "text/x-python",
   "name": "python",
   "nbconvert_exporter": "python",
   "pygments_lexer": "ipython3",
   "version": "3.9.12"
  }
 },
 "nbformat": 4,
 "nbformat_minor": 5
}
