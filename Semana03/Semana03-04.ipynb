{
 "cells": [
  {
   "cell_type": "markdown",
   "id": "1cd90d2e",
   "metadata": {},
   "source": [
    "#  Semana 03\n",
    "Nanquen Castillo, Piero Alonso"
   ]
  },
  {
   "cell_type": "raw",
   "id": "90e40faf",
   "metadata": {},
   "source": [
    "Temas:\n",
    "    1. Números\n",
    "    2. Variables\n",
    "    3. Manejo de Cadenas\n",
    "    4. Ingreso de datos por teclado\n",
    "    5. Operadores"
   ]
  },
  {
   "cell_type": "markdown",
   "id": "b84bb7e4",
   "metadata": {},
   "source": [
    "4. Ingreso de datos por teclado"
   ]
  },
  {
   "cell_type": "code",
   "execution_count": 2,
   "id": "f42ab138",
   "metadata": {},
   "outputs": [
    {
     "name": "stdout",
     "output_type": "stream",
     "text": [
      "¿Cuál es tu nombre?\n",
      "Piero\n",
      "Hola Piero\n"
     ]
    }
   ],
   "source": [
    "# Función input()\n",
    "print('¿Cuál es tu nombre?')\n",
    "nombre=input()\n",
    "print('Hola '+ nombre)"
   ]
  },
  {
   "cell_type": "code",
   "execution_count": 3,
   "id": "30bcb69c",
   "metadata": {},
   "outputs": [
    {
     "name": "stdout",
     "output_type": "stream",
     "text": [
      "numero 1: \n",
      "3\n",
      "numero 2: \n",
      "4\n",
      "la suma de 3 y 4 es el 7\n"
     ]
    }
   ],
   "source": [
    "# Cuando ingreso un valos por teclado lo hace como cadena\n",
    "print('numero 1: ')\n",
    "numero1 = input()\n",
    "print('numero 2: ')\n",
    "numero2 = input()\n",
    "numero3 = int(numero1) + int(numero2)\n",
    "print(f'la suma de {numero1} y {numero2} es el {numero3}')"
   ]
  },
  {
   "cell_type": "code",
   "execution_count": null,
   "id": "95b9d0d1",
   "metadata": {},
   "outputs": [],
   "source": []
  }
 ],
 "metadata": {
  "kernelspec": {
   "display_name": "Python 3 (ipykernel)",
   "language": "python",
   "name": "python3"
  },
  "language_info": {
   "codemirror_mode": {
    "name": "ipython",
    "version": 3
   },
   "file_extension": ".py",
   "mimetype": "text/x-python",
   "name": "python",
   "nbconvert_exporter": "python",
   "pygments_lexer": "ipython3",
   "version": "3.9.12"
  }
 },
 "nbformat": 4,
 "nbformat_minor": 5
}
