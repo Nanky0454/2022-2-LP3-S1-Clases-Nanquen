{
 "cells": [
  {
   "cell_type": "markdown",
   "id": "b18fa1fd",
   "metadata": {},
   "source": [
    "#  Semana 03\n",
    "Nanquen Castillo, Piero Alonso"
   ]
  },
  {
   "cell_type": "raw",
   "id": "241c0501",
   "metadata": {},
   "source": [
    "Temas:\n",
    "    1. Números\n",
    "    2. Variables\n",
    "    3. Manejo de Cadenas\n",
    "    4. Ingreso de datos por teclado\n",
    "    5. Operadores"
   ]
  },
  {
   "cell_type": "markdown",
   "id": "3539824e",
   "metadata": {},
   "source": [
    "3. Manejo de Cadenas"
   ]
  },
  {
   "cell_type": "code",
   "execution_count": 1,
   "id": "c4c7fef3",
   "metadata": {},
   "outputs": [
    {
     "data": {
      "text/plain": [
       "'Universidad Nacional Tecnológica de Lima Sur'"
      ]
     },
     "execution_count": 1,
     "metadata": {},
     "output_type": "execute_result"
    }
   ],
   "source": [
    "cadena = 'Universidad Nacional Tecnológica de Lima Sur'\n",
    "cadena"
   ]
  },
  {
   "cell_type": "code",
   "execution_count": 2,
   "id": "542e0e37",
   "metadata": {},
   "outputs": [],
   "source": [
    "#Universidad Nacional Tecnológica de Lima Sur\n",
    "#01234.........................-2-1"
   ]
  },
  {
   "cell_type": "code",
   "execution_count": 3,
   "id": "f7935166",
   "metadata": {},
   "outputs": [
    {
     "data": {
      "text/plain": [
       "'r'"
      ]
     },
     "execution_count": 3,
     "metadata": {},
     "output_type": "execute_result"
    }
   ],
   "source": [
    "cadena[5]"
   ]
  },
  {
   "cell_type": "code",
   "execution_count": 4,
   "id": "88e6ac85",
   "metadata": {},
   "outputs": [
    {
     "data": {
      "text/plain": [
       "'r'"
      ]
     },
     "execution_count": 4,
     "metadata": {},
     "output_type": "execute_result"
    }
   ],
   "source": [
    "cadena[-1]"
   ]
  },
  {
   "cell_type": "code",
   "execution_count": 5,
   "id": "154669fc",
   "metadata": {},
   "outputs": [
    {
     "data": {
      "text/plain": [
       "'T'"
      ]
     },
     "execution_count": 5,
     "metadata": {},
     "output_type": "execute_result"
    }
   ],
   "source": [
    "cadena[21]"
   ]
  },
  {
   "cell_type": "code",
   "execution_count": 7,
   "id": "f9d8c306",
   "metadata": {},
   "outputs": [
    {
     "data": {
      "text/plain": [
       "'versi'"
      ]
     },
     "execution_count": 7,
     "metadata": {},
     "output_type": "execute_result"
    }
   ],
   "source": [
    "# Para mostrar una subcadena [desde: hasta una antes]\n",
    "# En Java substring()\n",
    "cadena[3:8]"
   ]
  },
  {
   "cell_type": "code",
   "execution_count": 8,
   "id": "c9d385e3",
   "metadata": {},
   "outputs": [
    {
     "data": {
      "text/plain": [
       "44"
      ]
     },
     "execution_count": 8,
     "metadata": {},
     "output_type": "execute_result"
    }
   ],
   "source": [
    "# Para saber el tamaño de una cadena utilizamos len()\n",
    "#Incluye espacios en blanco\n",
    "len(cadena)"
   ]
  },
  {
   "cell_type": "code",
   "execution_count": 9,
   "id": "9b2c66e9",
   "metadata": {},
   "outputs": [
    {
     "data": {
      "text/plain": [
       "'UNIVERSIDAD NACIONAL TECNOLÓGICA DE LIMA SUR'"
      ]
     },
     "execution_count": 9,
     "metadata": {},
     "output_type": "execute_result"
    }
   ],
   "source": [
    "# Para mostrar una cadena en mayúscula utilizamos .upper()\n",
    "cadena.upper()"
   ]
  },
  {
   "cell_type": "code",
   "execution_count": 10,
   "id": "dae62e44",
   "metadata": {},
   "outputs": [
    {
     "data": {
      "text/plain": [
       "'universidad nacional tecnológica de lima sur'"
      ]
     },
     "execution_count": 10,
     "metadata": {},
     "output_type": "execute_result"
    }
   ],
   "source": [
    "cadena.lower()"
   ]
  },
  {
   "cell_type": "code",
   "execution_count": 11,
   "id": "25f0eb13",
   "metadata": {},
   "outputs": [
    {
     "data": {
      "text/plain": [
       "'Universidad Nacional Tecnológica de Lima Sur'"
      ]
     },
     "execution_count": 11,
     "metadata": {},
     "output_type": "execute_result"
    }
   ],
   "source": [
    "# Ojo: solo lo muestra, porque el original sigue siendo igual\n",
    "cadena"
   ]
  },
  {
   "cell_type": "code",
   "execution_count": 12,
   "id": "637de8e6",
   "metadata": {},
   "outputs": [
    {
     "data": {
      "text/plain": [
       "'UNIVERSIDAD NACIONAL TECNOLÓGICA DE LIMA SUR'"
      ]
     },
     "execution_count": 12,
     "metadata": {},
     "output_type": "execute_result"
    }
   ],
   "source": [
    "# Si desearas cambiarlo harías: cadena = cadena.upper()\n",
    "cadena=cadena.upper()\n",
    "cadena"
   ]
  },
  {
   "cell_type": "code",
   "execution_count": 13,
   "id": "aed31b41",
   "metadata": {},
   "outputs": [
    {
     "data": {
      "text/plain": [
       "['UNIVERSIDAD', 'NACIONAL', 'TECNOLÓGICA', 'DE', 'LIMA', 'SUR']"
      ]
     },
     "execution_count": 13,
     "metadata": {},
     "output_type": "execute_result"
    }
   ],
   "source": [
    "# Generar una lista a partir de una cadena split()\n",
    "cadena.split()"
   ]
  },
  {
   "cell_type": "code",
   "execution_count": 14,
   "id": "1d45b447",
   "metadata": {},
   "outputs": [
    {
     "data": {
      "text/plain": [
       "['UNIVERSID', 'D N', 'CION', 'L TECNOLÓGIC', ' DE LIM', ' SUR']"
      ]
     },
     "execution_count": 14,
     "metadata": {},
     "output_type": "execute_result"
    }
   ],
   "source": [
    "# Generar una lista a partir de una cadena split()\n",
    "# En este caso vamos a generar una lista de toda la cadena, utilizando como criterio de separación la letra 'A'\n",
    "cadena.split('A')"
   ]
  },
  {
   "cell_type": "code",
   "execution_count": 15,
   "id": "50ba5fa1",
   "metadata": {},
   "outputs": [
    {
     "name": "stdout",
     "output_type": "stream",
     "text": [
      "Buenos dias Piero Nanquen\n"
     ]
    }
   ],
   "source": [
    "#Forma clásica, concatenar con +\n",
    "nombre = \"Piero Nanquen\"\n",
    "print(\"Buenos dias \"+ nombre)"
   ]
  },
  {
   "cell_type": "code",
   "execution_count": 17,
   "id": "ae01c3da",
   "metadata": {},
   "outputs": [
    {
     "name": "stdout",
     "output_type": "stream",
     "text": [
      "Hola Piero Nanquen ya sé que tienes 19 años\n"
     ]
    }
   ],
   "source": [
    "# Utilizando el .format()\n",
    "nombre = 'Piero Nanquen'\n",
    "edad = 19\n",
    "print(\"Hola {} ya sé que tienes {} años\".format(nombre, edad))"
   ]
  },
  {
   "cell_type": "code",
   "execution_count": 19,
   "id": "f3e56622",
   "metadata": {},
   "outputs": [
    {
     "name": "stdout",
     "output_type": "stream",
     "text": [
      "10/3 es = 3.3333333333333335\n",
      "10/3 es = 3.333\n"
     ]
    }
   ],
   "source": [
    "# Dar formato a números con muchos decimales\n",
    "resultado=10/3\n",
    "print('10/3 es = {}'.format(resultado))\n",
    "print('10/3 es = {r:1.3f}'.format(r=resultado))"
   ]
  },
  {
   "cell_type": "code",
   "execution_count": 20,
   "id": "c26aae3f",
   "metadata": {},
   "outputs": [
    {
     "name": "stdout",
     "output_type": "stream",
     "text": [
      "Buenos dias Piero Nanquen, ya sé que tienes 19 años\n"
     ]
    }
   ],
   "source": [
    "# Dar formato con f\n",
    "# La función f esta disponible desde la versión 3.6\n",
    "nombre = 'Piero Nanquen'\n",
    "edad = 19\n",
    "print(f'Buenos dias {nombre}, ya sé que tienes {edad} años')"
   ]
  },
  {
   "cell_type": "code",
   "execution_count": 22,
   "id": "ade415b5",
   "metadata": {},
   "outputs": [
    {
     "name": "stdout",
     "output_type": "stream",
     "text": [
      "10/3 es 3.3333333333333335\n",
      "10/3 es 3.333\n"
     ]
    }
   ],
   "source": [
    "# Dar formato a números con muchos decimales utilizando f\n",
    "resultado = 10/3\n",
    "print(f'10/3 es {resultado}')\n",
    "print(f'10/3 es {resultado:1.3f}')"
   ]
  },
  {
   "cell_type": "code",
   "execution_count": null,
   "id": "d77a1fd6",
   "metadata": {},
   "outputs": [],
   "source": []
  }
 ],
 "metadata": {
  "kernelspec": {
   "display_name": "Python 3 (ipykernel)",
   "language": "python",
   "name": "python3"
  },
  "language_info": {
   "codemirror_mode": {
    "name": "ipython",
    "version": 3
   },
   "file_extension": ".py",
   "mimetype": "text/x-python",
   "name": "python",
   "nbconvert_exporter": "python",
   "pygments_lexer": "ipython3",
   "version": "3.9.12"
  }
 },
 "nbformat": 4,
 "nbformat_minor": 5
}
